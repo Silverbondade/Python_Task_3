{
 "cells": [
  {
   "cell_type": "markdown",
   "id": "f04965b5-89b0-4884-b878-5eb8edfb8533",
   "metadata": {},
   "source": [
    "***(a) Python Dictionary Methods***\n",
    "\n",
    "**1) \n",
    "clear(- Removes all the elements from the dictionary**)\t"
   ]
  },
  {
   "cell_type": "code",
   "execution_count": 3,
   "id": "214d4b24-378f-424c-9806-fe8314e3f718",
   "metadata": {},
   "outputs": [
    {
     "name": "stdout",
     "output_type": "stream",
     "text": [
      "{}\n"
     ]
    }
   ],
   "source": [
    "eat = {\n",
    "  \"food\": \"Pasta\",\n",
    "  \"Brand\": \"Pintole\",\n",
    "  \"year\": 2024\n",
    "}\n",
    "\n",
    "eat.clear()\n",
    "\n",
    "print(eat)"
   ]
  },
  {
   "cell_type": "markdown",
   "id": "d8ad1c73-4fa3-4b12-b8ff-fa80a6cf68da",
   "metadata": {},
   "source": [
    "**2) copy() - Returns a copy of the dictionary**"
   ]
  },
  {
   "cell_type": "code",
   "execution_count": 5,
   "id": "d753cee2-32d0-4365-b69d-2e1eba3e95c9",
   "metadata": {},
   "outputs": [
    {
     "name": "stdout",
     "output_type": "stream",
     "text": [
      "{'brand': 'tvs', 'model': 'jupyter', 'year': 2020}\n"
     ]
    }
   ],
   "source": [
    "bike = {\n",
    "  \"brand\": \"tvs\",\n",
    "  \"model\": \"jupyter\",\n",
    "  \"year\": 2020\n",
    "}\n",
    "\n",
    "x = bike.copy()\n",
    "\n",
    "print(x)"
   ]
  },
  {
   "cell_type": "markdown",
   "id": "bdcb2df2-e59a-4c82-93a4-75a301bcadfc",
   "metadata": {},
   "source": [
    "**3) formkeys() - Returns a dictionary with the specified keys and value**"
   ]
  },
  {
   "cell_type": "code",
   "execution_count": 10,
   "id": "6d2ac2f5-5e1f-48f1-a8f1-9054fc9bb9c1",
   "metadata": {},
   "outputs": [
    {
     "name": "stdout",
     "output_type": "stream",
     "text": [
      "{'ai': 1, 'a2': 1, 'a3': 1, 'a4': 1, 'a5': 1}\n"
     ]
    }
   ],
   "source": [
    "x = ('ai', 'a2', 'a3' , 'a4' , 'a5')\n",
    "y = 1\n",
    "\n",
    "thisdict = dict.fromkeys(x, y)\n",
    "\n",
    "print(thisdict)"
   ]
  },
  {
   "cell_type": "code",
   "execution_count": null,
   "id": "7a53d8bd-94bd-49ae-8eb7-e2e7dd0e2ec9",
   "metadata": {},
   "outputs": [],
   "source": [
    "x = ('b1', 'b2', 'b3')\n",
    "\n",
    "thisdict = dict.fromkeys(x)\n",
    "\n",
    "print(thisdict)"
   ]
  },
  {
   "cell_type": "markdown",
   "id": "f8555dfb-0d60-4016-90a9-06449ce24d68",
   "metadata": {},
   "source": [
    "**4) get() - Returns the value of the specified key**"
   ]
  },
  {
   "cell_type": "code",
   "execution_count": 28,
   "id": "d867522e-4c59-49a8-aff9-9585ac57eeee",
   "metadata": {},
   "outputs": [
    {
     "name": "stdout",
     "output_type": "stream",
     "text": [
      "x3\n"
     ]
    }
   ],
   "source": [
    "car = {\n",
    "  \"Mobile\": \"Samsung\",\n",
    "  \"model\": \"x3\",\n",
    "  \"year\": 2001\n",
    "}\n",
    "\n",
    "x = car.get(\"model\")\n",
    "\n",
    "print(x)"
   ]
  },
  {
   "cell_type": "markdown",
   "id": "63c1ed50-ddc2-4fb0-8836-e7d8c9f43e99",
   "metadata": {},
   "source": [
    "**5) items() - Returns a list containing a tuple for each key value pair**"
   ]
  },
  {
   "cell_type": "code",
   "execution_count": 30,
   "id": "e820fccb-a529-4323-9fc0-3694bf205d03",
   "metadata": {},
   "outputs": [
    {
     "name": "stdout",
     "output_type": "stream",
     "text": [
      "dict_items([(\"metal'\", 'gold'), ('rate', '1000'), ('year', 1999)])\n"
     ]
    }
   ],
   "source": [
    "bangle = {\n",
    "  \"metal'\": \"gold\",\n",
    "  \"rate\": \"1000\",\n",
    "  \"year\": 1999\n",
    "}\n",
    "\n",
    "x = bangle.items()\n",
    "\n",
    "print(x)"
   ]
  },
  {
   "cell_type": "markdown",
   "id": "d405fa7f-3729-47e7-8f5e-d608f8a107f7",
   "metadata": {},
   "source": [
    "**6) keys() - Returns a list containing the dictionary's keys**"
   ]
  },
  {
   "cell_type": "code",
   "execution_count": 34,
   "id": "bd2531d5-f97b-4c89-9507-208cca411008",
   "metadata": {},
   "outputs": [
    {
     "name": "stdout",
     "output_type": "stream",
     "text": [
      "dict_keys(['google', 'microsoft'])\n"
     ]
    }
   ],
   "source": [
    "apps = {\n",
    "  \"google\": \"google sheets\",\n",
    "  \"microsoft\": \"msexcle\",\n",
    "}\n",
    "\n",
    "x = apps.keys()\n",
    "\n",
    "print(x)\n"
   ]
  },
  {
   "cell_type": "markdown",
   "id": "78112be4-43ea-4f42-b888-65672438c157",
   "metadata": {},
   "source": [
    "**7) pop() - Removes the element with the specified key**"
   ]
  },
  {
   "cell_type": "code",
   "execution_count": 38,
   "id": "f66bb61e-657a-49b2-9983-9bbec6317605",
   "metadata": {},
   "outputs": [
    {
     "name": "stdout",
     "output_type": "stream",
     "text": [
      "{'Manali': 'class10', 'Vrushali': 'class11', 'vaibhavi': 'class9'}\n"
     ]
    }
   ],
   "source": [
    "stu_names = {\n",
    "  \"Manali\": \"class10\",\n",
    "  \"Vrushali\": \"class11\",\n",
    "  \"Mrunal\": \"class12\",\n",
    "  \"vaibhavi\": \"class9\"  \n",
    "}\n",
    "\n",
    "stu_names.pop(\"Mrunal\")\n",
    "\n",
    "print(stu_names)"
   ]
  },
  {
   "cell_type": "markdown",
   "id": "5ba0ebff-f553-40ba-8e8d-b658b3faa50e",
   "metadata": {},
   "source": [
    "**8) popitem() - Removes the last inserted key-value pair**"
   ]
  },
  {
   "cell_type": "code",
   "execution_count": 42,
   "id": "55e1b266-fbf0-4a91-9269-a73770051b28",
   "metadata": {},
   "outputs": [
    {
     "name": "stdout",
     "output_type": "stream",
     "text": [
      "{'student1': 'pass', 'student2': 'pass'}\n"
     ]
    }
   ],
   "source": [
    "result = {\n",
    "  \"student1\": \"pass\",\n",
    "  \"student2\": \"pass\",\n",
    "  \"student3\": \"fail\",\n",
    "}\n",
    "\n",
    "result.popitem()\n",
    "\n",
    "print(result)"
   ]
  },
  {
   "cell_type": "markdown",
   "id": "aa32b78b-0d03-40ae-bf51-9e13dd734187",
   "metadata": {},
   "source": [
    "**9) setdefault() - Returns the value of the specified key. If the key does not exist: insert the key, with the specified value**"
   ]
  },
  {
   "cell_type": "code",
   "execution_count": 46,
   "id": "efaea7b8-db55-4e61-8963-095548c2548d",
   "metadata": {},
   "outputs": [
    {
     "name": "stdout",
     "output_type": "stream",
     "text": [
      "kids production\n"
     ]
    }
   ],
   "source": [
    "toys = {\n",
    "  \"toy1\": \"happy production\",\n",
    "  \"toy2\": \"kids production\",\n",
    "  \"toy3\": \"pupil production\"\n",
    "}\n",
    "\n",
    "x = toys.setdefault(\"toy2\", \"softy production\")\n",
    "\n",
    "print(x)"
   ]
  },
  {
   "cell_type": "markdown",
   "id": "4b841377-08b9-40d4-9fa3-58e5f7925dc6",
   "metadata": {},
   "source": [
    "**10) update() - Updates the dictionary with the specified key-value pairs**"
   ]
  },
  {
   "cell_type": "code",
   "execution_count": 48,
   "id": "ccd09b70-5297-4aa4-a812-06340ebb14fb",
   "metadata": {},
   "outputs": [
    {
     "name": "stdout",
     "output_type": "stream",
     "text": [
      "{'brand': 'hrx', 'dress_type': 'one_peice', 'manufacturing': 2024, 'color': 'red'}\n"
     ]
    }
   ],
   "source": [
    "dress = {\n",
    "  \"brand\": \"hrx\",\n",
    "  \"dress_type\": \"one_peice\",\n",
    "  \"manufacturing\": 2024\n",
    "}\n",
    "\n",
    "dress.update({\"color\": \"red\"})\n",
    "\n",
    "print(dress)\n"
   ]
  },
  {
   "cell_type": "markdown",
   "id": "783e66a8-834c-4a51-ae8b-0c41bad454a0",
   "metadata": {},
   "source": [
    "**11) values() - Returns a list of all the values in the dictionary**"
   ]
  },
  {
   "cell_type": "code",
   "execution_count": 54,
   "id": "10504796-5ad1-44e2-9521-ef3dcd705828",
   "metadata": {},
   "outputs": [
    {
     "name": "stdout",
     "output_type": "stream",
     "text": [
      "dict_values([20, 'true', 'apple', 2.5, 1j])\n"
     ]
    }
   ],
   "source": [
    "datatype= {\n",
    "  \"int\": 20,\n",
    "  \"boolean\": \"true\",\n",
    "  \"string\": \"apple\",\n",
    "  \" float\" : 2.5,\n",
    "  \"complex\" : 1j \n",
    "}\n",
    "\n",
    "x = datatype.values()\n",
    "\n",
    "print(x)"
   ]
  },
  {
   "cell_type": "markdown",
   "id": "cdf1d9f7-82af-4d1c-bbea-3a1c6168db13",
   "metadata": {},
   "source": [
    "***(b) Python Tuple Methods***"
   ]
  },
  {
   "cell_type": "markdown",
   "id": "de569d8e-5294-4f13-a94b-1f29f0e9223c",
   "metadata": {},
   "source": [
    "**1) count() - Returns the number of times a specified value occurs in a tuple**"
   ]
  },
  {
   "cell_type": "code",
   "execution_count": 58,
   "id": "b227eb85-6d57-472f-95ef-f15724cb5087",
   "metadata": {},
   "outputs": [
    {
     "name": "stdout",
     "output_type": "stream",
     "text": [
      "5\n"
     ]
    }
   ],
   "source": [
    "thistuple = (1, 11, 34, 56, 57, 23, 67, 99, 200, 68, 19, 200, 45, 200, 99, 111, 200, 66, 39, 200, 22)\n",
    "\n",
    "y = thistuple.count(200)\n",
    "\n",
    "print(y)"
   ]
  },
  {
   "cell_type": "markdown",
   "id": "9cac7f34-e35f-4189-984c-70e6c53a7605",
   "metadata": {},
   "source": [
    "**2) index() - Searches the tuple for a specified value and returns the position of where it was found** "
   ]
  },
  {
   "cell_type": "code",
   "execution_count": 66,
   "id": "d10c6bb7-f6ee-491c-95f4-f5cba859e86f",
   "metadata": {},
   "outputs": [
    {
     "name": "stdout",
     "output_type": "stream",
     "text": [
      "17\n"
     ]
    }
   ],
   "source": [
    "thistuple = (1, 3, 7, 8, 7, 5, 4, 6, 8, 5, 10, 11, 12, 13, 14, 15, 11, 16)\n",
    "\n",
    "x = thistuple.index(16)\n",
    "\n",
    "print(x)"
   ]
  }
 ],
 "metadata": {
  "kernelspec": {
   "display_name": "Python 3 (ipykernel)",
   "language": "python",
   "name": "python3"
  },
  "language_info": {
   "codemirror_mode": {
    "name": "ipython",
    "version": 3
   },
   "file_extension": ".py",
   "mimetype": "text/x-python",
   "name": "python",
   "nbconvert_exporter": "python",
   "pygments_lexer": "ipython3",
   "version": "3.12.4"
  }
 },
 "nbformat": 4,
 "nbformat_minor": 5
}
